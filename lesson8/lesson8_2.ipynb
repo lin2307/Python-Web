{
 "cells": [
  {
   "cell_type": "code",
   "execution_count": 1,
   "metadata": {},
   "outputs": [],
   "source": [
    "#dataclass\n",
    "from dataclasses import dataclass\n",
    "\n",
    "@dataclass\n",
    "class Student:\n",
    "    name:str        #欄位(Field)\n",
    "    chinese:int\n",
    "    english:int\n",
    "    math:int"
   ]
  },
  {
   "cell_type": "code",
   "execution_count": 2,
   "metadata": {},
   "outputs": [
    {
     "name": "stdout",
     "output_type": "stream",
     "text": [
      "林水忠\n",
      "96\n",
      "99\n",
      "90\n"
     ]
    }
   ],
   "source": [
    "s1 = Student(\"林水忠\",96,99,90)\n",
    "\n",
    "print(s1.name)\n",
    "print(s1.chinese)\n",
    "print(s1.english)\n",
    "print(s1.math)"
   ]
  },
  {
   "cell_type": "code",
   "execution_count": 12,
   "metadata": {},
   "outputs": [],
   "source": [
    "#dataclass\n",
    "#增加property及mathod的方法\n",
    "from dataclasses import dataclass\n",
    "\n",
    "@dataclass\n",
    "class Student:\n",
    "    name:str        #欄位(Field)\n",
    "    chinese:int\n",
    "    english:int\n",
    "    math:int\n",
    "\n",
    "    @property\n",
    "    def sum(self)->int:\n",
    "        return self.chinese +self.english + self.math\n",
    "    \n",
    "    #mathod   \n",
    "    def average(self)->int:\n",
    "        return round(self.sum /3,ndigits=2)"
   ]
  },
  {
   "cell_type": "code",
   "execution_count": 11,
   "metadata": {},
   "outputs": [
    {
     "name": "stdout",
     "output_type": "stream",
     "text": [
      "林水忠\n",
      "96\n",
      "99\n",
      "90\n",
      "285\n",
      "95.0\n"
     ]
    }
   ],
   "source": [
    "s1 = Student(\"林水忠\",96,99,90)\n",
    "\n",
    "print(s1.name)\n",
    "print(s1.chinese)\n",
    "print(s1.english)\n",
    "print(s1.math)\n",
    "print(s1.sum)\n",
    "print(s1.average())"
   ]
  },
  {
   "cell_type": "code",
   "execution_count": 13,
   "metadata": {},
   "outputs": [
    {
     "data": {
      "text/plain": [
       "[1, 3, 5, 7]"
      ]
     },
     "execution_count": 13,
     "metadata": {},
     "output_type": "execute_result"
    }
   ],
   "source": [
    "l1:list[int]  = [1,3,5]\n",
    "l1.append(7)\n",
    "l1"
   ]
  },
  {
   "cell_type": "markdown",
   "metadata": {},
   "source": [
    "練習2\n",
    "# 建立類別BMI\n",
    "class BMI\n",
    "attribute -> name,weight,height\n",
    "property -> bmi\n",
    "instance method -> status\n",
    "輸入\n",
    "請輸入姓名\n",
    "體重\n",
    "身高\n",
    "輸出\n",
    "徐國堂您好,BMI:26.12,體重:過重"
   ]
  },
  {
   "cell_type": "code",
   "execution_count": null,
   "metadata": {},
   "outputs": [],
   "source": [
    "class BMI():\n",
    "    #定義的參數\"n\"\n",
    "    def __init__(self,n:str):   #自訂初始化\n",
    "        self.name = n   #建立attribute\n",
    "\n",
    "    def __repr__(self):\n",
    "        return f\"我是Persnon的實體,我的名字是{self.name}\"\n",
    "    \n",
    "    \n"
   ]
  },
  {
   "cell_type": "code",
   "execution_count": null,
   "metadata": {},
   "outputs": [],
   "source": []
  },
  {
   "cell_type": "markdown",
   "metadata": {},
   "source": [
    "#練習3\n",
    "建立類別BMI(使用DataClass)\n",
    "class BMI\n",
    "field -> name,weight,height\n",
    "property -> bmi\n",
    "instance method -> status\n",
    "輸入\n",
    "請輸入姓名\n",
    "體重\n",
    "身高\n",
    "輸出\n",
    "徐國堂您好,BMI:26.12,體重:過重"
   ]
  },
  {
   "cell_type": "code",
   "execution_count": null,
   "metadata": {},
   "outputs": [],
   "source": []
  }
 ],
 "metadata": {
  "kernelspec": {
   "display_name": "Python 3",
   "language": "python",
   "name": "python3"
  },
  "language_info": {
   "codemirror_mode": {
    "name": "ipython",
    "version": 3
   },
   "file_extension": ".py",
   "mimetype": "text/x-python",
   "name": "python",
   "nbconvert_exporter": "python",
   "pygments_lexer": "ipython3",
   "version": "3.10.14"
  }
 },
 "nbformat": 4,
 "nbformat_minor": 2
}
