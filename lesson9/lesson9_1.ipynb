{
 "cells": [
  {
   "cell_type": "code",
   "execution_count": 5,
   "metadata": {},
   "outputs": [
    {
     "name": "stdout",
     "output_type": "stream",
     "text": [
      "<class '_io.TextIOWrapper'>\n",
      "False\n"
     ]
    }
   ],
   "source": [
    "file = open(\"names.txt\",encoding=\"utf-8\")\n",
    "\n",
    "#檢查檔案型別\n",
    "print(type(file))\n",
    "\n",
    "#檢查檔案是否關閉\n",
    "print(file.closed)\n",
    "\n",
    "file.close()\n"
   ]
  },
  {
   "cell_type": "code",
   "execution_count": 4,
   "metadata": {},
   "outputs": [
    {
     "name": "stdout",
     "output_type": "stream",
     "text": [
      "<class '_io.TextIOWrapper'>\n",
      "True\n"
     ]
    }
   ],
   "source": [
    "file = open(\"names.txt\",encoding=\"utf-8\")\n",
    "print(type(file))\n",
    "file.close()\n",
    "print(file.closed)"
   ]
  },
  {
   "cell_type": "code",
   "execution_count": 6,
   "metadata": {},
   "outputs": [
    {
     "name": "stdout",
     "output_type": "stream",
     "text": [
      "陳怡伶\n",
      "馮芳如\n",
      "蒙淑惠\n"
     ]
    }
   ],
   "source": [
    "#使用with ... as: 時，不需使用close()\n",
    "with open(\"names.txt\",encoding=\"utf-8\") as file:\n",
    "    print(file.readline(),end='')\n",
    "    print(file.readline(),end='')\n",
    "    print(file.readline(),end='')"
   ]
  }
 ],
 "metadata": {
  "kernelspec": {
   "display_name": "Python 3",
   "language": "python",
   "name": "python3"
  },
  "language_info": {
   "codemirror_mode": {
    "name": "ipython",
    "version": 3
   },
   "file_extension": ".py",
   "mimetype": "text/x-python",
   "name": "python",
   "nbconvert_exporter": "python",
   "pygments_lexer": "ipython3",
   "version": "3.11.9"
  }
 },
 "nbformat": 4,
 "nbformat_minor": 2
}
